{
 "cells": [
  {
   "cell_type": "markdown",
   "metadata": {},
   "source": [
    "Aula 11\n",
    "\n",
    "Leonardo Araujo da Mata \n",
    "- RA:81714427\n"
   ]
  },
  {
   "cell_type": "markdown",
   "metadata": {},
   "source": [
    "###### 1 - Menor de dois pares: Escreva uma função que retorne o menor de dois números dados se ambos os números forem pares, mas retorna o maior se um dos dois for ímpar.\n",
    "\n",
    "- Exemplo:\n",
    "- menor_de_dois_pares(2,4) --> 2\n",
    "- menor_de_dois_pares (2,5) --> 5\n",
    "\n"
   ]
  },
  {
   "cell_type": "code",
   "execution_count": 1,
   "metadata": {},
   "outputs": [],
   "source": [
    "def menor_de_dois_pares(num1, num2):\n",
    "    if num1 % 2 == 0 and num2 % 2 == 0:\n",
    "        if num1 < num2:\n",
    "            return num1\n",
    "        else:\n",
    "            return num2\n",
    "    else:\n",
    "        if num1 > num2:\n",
    "            return num1\n",
    "        else:\n",
    "            return num2"
   ]
  },
  {
   "cell_type": "code",
   "execution_count": 2,
   "metadata": {},
   "outputs": [
    {
     "data": {
      "text/plain": [
       "2"
      ]
     },
     "execution_count": 2,
     "metadata": {},
     "output_type": "execute_result"
    }
   ],
   "source": [
    "menor_de_dois_pares(2,4)"
   ]
  },
  {
   "cell_type": "markdown",
   "metadata": {},
   "source": [
    "###### 2 - Mesma letra: Escreva uma função que receba uma string com duas palavras e retorne True se ambas palavras começarem com a mesma letra.\n",
    "\n",
    "- Exemplo:\n",
    "- mesma_letra('Cão covarde') -> True\n",
    "- mesma_letra('Vira Lata') -> False\n",
    "\n"
   ]
  },
  {
   "cell_type": "code",
   "execution_count": 3,
   "metadata": {},
   "outputs": [],
   "source": [
    "def mesma_letra(string):\n",
    "    p1, p2 = string.split()\n",
    "    if p1[0].lower() == p2[0].lower():\n",
    "        return True\n",
    "    else:\n",
    "        return False"
   ]
  },
  {
   "cell_type": "code",
   "execution_count": 4,
   "metadata": {},
   "outputs": [
    {
     "data": {
      "text/plain": [
       "True"
      ]
     },
     "execution_count": 4,
     "metadata": {},
     "output_type": "execute_result"
    }
   ],
   "source": [
    "mesma_letra('Cão covarde')"
   ]
  },
  {
   "cell_type": "code",
   "execution_count": 5,
   "metadata": {},
   "outputs": [
    {
     "data": {
      "text/plain": [
       "False"
      ]
     },
     "execution_count": 5,
     "metadata": {},
     "output_type": "execute_result"
    }
   ],
   "source": [
    "mesma_letra('Vira Lata')"
   ]
  },
  {
   "cell_type": "markdown",
   "metadata": {},
   "source": [
    "###### 3 Mestre Yoda: Dada uma sentença, a função deve retornar a sentença com as palavras na ordem reversa.\n",
    "\n",
    "- Exemplo:\n",
    "- mestre_yoda('Eu estou em casa') --> 'casa em estou Eu'\n",
    "- mestre_yoda('Estamos prontos') --> 'prontos Estamos'\n",
    "\n"
   ]
  },
  {
   "cell_type": "code",
   "execution_count": 6,
   "metadata": {},
   "outputs": [],
   "source": [
    "def mestre_yoda(string):\n",
    "    palavras = string.split()\n",
    "    palavras.reverse()\n",
    "    yoda = \"\"\n",
    "    for i in range(0, len(palavras) - 1):\n",
    "        palavras[i] = palavras[i] + \" \"\n",
    "    for palavra in palavras:\n",
    "        yoda += palavra\n",
    "    return yoda"
   ]
  },
  {
   "cell_type": "code",
   "execution_count": 7,
   "metadata": {},
   "outputs": [
    {
     "data": {
      "text/plain": [
       "'casa em estou Eu'"
      ]
     },
     "execution_count": 7,
     "metadata": {},
     "output_type": "execute_result"
    }
   ],
   "source": [
    "mestre_yoda('Eu estou em casa')"
   ]
  },
  {
   "cell_type": "markdown",
   "metadata": {},
   "source": [
    "###### 4 Tem 33: Faça uma função que retorne True se, dada uma lista de inteiros, houver em alguma posição da lista um 3 do lado de outro 3.\n",
    "\n",
    "Exemplo:\n",
    "- tem_33([1,3,3]) --> True\n",
    "- tem_33([1,3,1,3]) --> False\n",
    "- tem_33([3,1,3]) --> False\n",
    "\n"
   ]
  },
  {
   "cell_type": "code",
   "execution_count": 8,
   "metadata": {},
   "outputs": [],
   "source": [
    "def tem_33(lista):\n",
    "    for i in range(0, len(lista)):\n",
    "        if lista[i] == 3:\n",
    "            if i + 1 < len(lista):\n",
    "                if lista[i+1] == 3:\n",
    "                    return True\n",
    "    return False"
   ]
  },
  {
   "cell_type": "code",
   "execution_count": 9,
   "metadata": {},
   "outputs": [
    {
     "data": {
      "text/plain": [
       "True"
      ]
     },
     "execution_count": 9,
     "metadata": {},
     "output_type": "execute_result"
    }
   ],
   "source": [
    "tem_33([1,3,3])"
   ]
  },
  {
   "cell_type": "markdown",
   "metadata": {},
   "source": [
    "\n",
    "\n",
    "###### 5 - Blackjack: Faça uma função que receba 3 inteiros entre 1 e 11. Se a soma deles for menor que 21, retorne o valor da soma. Se for mair do que 21 e houver um 11, subtraia 10 da soma antes de apresentar o resultado. Se o valor da soma passar de 21, retorne ‘ESTOUROU’.\n",
    "\n",
    "Exemplo:\n",
    "- blackjack(5,6,7) --> 18\n",
    "- blackjack(9,9,9) --> 'ESTOUROU'\n",
    "- blackjack(9,9,11) --> 19\n",
    "\n"
   ]
  },
  {
   "cell_type": "code",
   "execution_count": 10,
   "metadata": {},
   "outputs": [],
   "source": [
    "def blackjack(n1, n2, n3):\n",
    "    if (1 <= n1 <= 11) and (1 <= n2 <= 11) and (1 <= n3 <= 11):\n",
    "        if n1 + n2 + n3 <= 21:\n",
    "            return n1 + n2 + n3\n",
    "        else:\n",
    "            if n1 == 11 or n2 == 11 or n3 == 11:\n",
    "                return n1 + n2 + n3 - 10\n",
    "            else:\n",
    "                return \"ESTOUROU\"\n",
    "    else:\n",
    "        return \"Números não estão entre 1 e 11.\""
   ]
  },
  {
   "cell_type": "code",
   "execution_count": 11,
   "metadata": {},
   "outputs": [
    {
     "data": {
      "text/plain": [
       "18"
      ]
     },
     "execution_count": 11,
     "metadata": {},
     "output_type": "execute_result"
    }
   ],
   "source": [
    "blackjack(5,6,7)"
   ]
  },
  {
   "cell_type": "markdown",
   "metadata": {},
   "source": [
    "###### 6 - Espião: Escreva uma função que receba uma lista de inteiros e retorne True se contém um 007 em ordem, mesmo que não contínuo.\n",
    "\n",
    "Exemplo:\n",
    "- espiao([1,2,4,0,0,7,5]) --> True\n",
    "- espiao([1,0,2,4,0,5,7]) --> True\n",
    "- espiao([1,7,2,4,0,5,0]) --> False\n",
    "\n"
   ]
  },
  {
   "cell_type": "code",
   "execution_count": 12,
   "metadata": {},
   "outputs": [],
   "source": [
    "def espiao(lista):\n",
    "    for x in range(0, len(lista)):\n",
    "        if lista[x] == 0 and x + 1 < len(lista):\n",
    "            y = x + 1\n",
    "            for y in range(y, len(lista)):\n",
    "                if lista[y] == 0 and y + 1 < len(lista):\n",
    "                    z = y + 1\n",
    "                    for z in range(z, len(lista)):\n",
    "                        if lista[z] == 7:\n",
    "                            return True\n",
    "    return False"
   ]
  },
  {
   "cell_type": "code",
   "execution_count": 13,
   "metadata": {},
   "outputs": [
    {
     "data": {
      "text/plain": [
       "True"
      ]
     },
     "execution_count": 13,
     "metadata": {},
     "output_type": "execute_result"
    }
   ],
   "source": [
    "espiao([1,2,4,0,0,7,5])"
   ]
  },
  {
   "cell_type": "markdown",
   "metadata": {},
   "source": [
    " ###### 7 - Crie a classe Linha que tem dois atributos, coordenada1 e coordenada2. Cada coordenada é uma tupla que carrega duas coordenadas cartesianas (x,y) que denotam pontos do segmento de reta. Faça métodos que calculem o comprimento do segmento de reta e sua inclinação."
   ]
  },
  {
   "cell_type": "code",
   "execution_count": 15,
   "metadata": {},
   "outputs": [
    {
     "name": "stdout",
     "output_type": "stream",
     "text": [
      "7.211102550927978\n",
      "1.5\n"
     ]
    }
   ],
   "source": [
    "import math\n",
    "class Linha:\n",
    "    \n",
    "    def __init__(self, c1, c2):\n",
    "        self.coordenada1 = c1\n",
    "        self.coordenada2 = c2\n",
    "        \n",
    "    def calcularComprimento(self):\n",
    "        return math.sqrt((self.coordenada2[0] - self.coordenada1[0])**2 + (self.coordenada2[1] - self.coordenada1[1])**2)\n",
    "    \n",
    "    def calcularInclinacao(self):\n",
    "        return (self.coordenada2[1] - self.coordenada1[1]) / (self.coordenada2[0] - self.coordenada1[0])\n",
    "    \n",
    "linha = Linha((3, 2), (7, 8))\n",
    "print(linha.calcularComprimento())\n",
    "print(linha.calcularInclinacao())"
   ]
  },
  {
   "cell_type": "markdown",
   "metadata": {},
   "source": [
    "###### 8 - Crie a seguinte hierarquia de classes de figuras geométricas. Veja na figura as fórmulas:\n",
    "\n",
    "a. A classe abstrata Figura deve ter o método abstrato area.\n",
    "b. A classe concreta Circulo é subclasse de Figura.\n",
    "c. A classe abstrata Poligono é subclasse de Figura e deve ter os atributos base e\n",
    "altura .\n",
    "d. As classes concretas Triangulo, Losango, Retangulo e Quadrado são subclasses\n",
    "de Poligono. Tente criar mais uma generalização aqui olhando as fórmulas da área.\n",
    "e. Os polígonos Retangulo e Quadrado devem implementar a interface Diagonal,\n",
    "que deve ter um método que calcula a diagonal.\n",
    "f. Crie uma classe Geometria com uma lista de Figuras com pelo menos uma\n",
    "figura de cada e imprima suas áreas, perímetros e diagonais."
   ]
  },
  {
   "cell_type": "code",
   "execution_count": 16,
   "metadata": {},
   "outputs": [
    {
     "name": "stdout",
     "output_type": "stream",
     "text": [
      "<class '__main__.Circulo'>\n",
      "Área:  314.1592653589793\n",
      "Perímetro: 62.83185307179586\n",
      "\n",
      "<class '__main__.Triangulo'>\n",
      "Área:  25.0\n",
      "Perímetro: None\n",
      "\n",
      "<class '__main__.Losango'>\n",
      "Área:  36.0\n",
      "Perímetro: 36\n",
      "\n",
      "<class '__main__.Retangulo'>\n",
      "Área:  128\n",
      "Perímetro: 48\n",
      "\n",
      "<class '__main__.Quadrado'>\n",
      "Área:  16\n",
      "Perímetro: 16\n",
      "\n"
     ]
    }
   ],
   "source": [
    "from abc import ABC, abstractmethod\n",
    "import math\n",
    "class Figura(ABC):\n",
    "    \n",
    "    def __init__(self):\n",
    "        super().__init__()\n",
    "    \n",
    "    @abstractmethod\n",
    "    def area(self):\n",
    "        pass\n",
    "    \n",
    "    @abstractmethod\n",
    "    def perimetro(self):\n",
    "        pass\n",
    "    \n",
    "class Circulo(Figura):\n",
    "    \n",
    "    def __init__(self, raio):\n",
    "        self.raio = raio\n",
    "        Figura.__init__(self)\n",
    "        \n",
    "    def area(self):\n",
    "        return math.pi * (self.raio**2)\n",
    "    \n",
    "    def perimetro(self):\n",
    "        return 2 * math.pi * self.raio\n",
    "        \n",
    "class Poligono(Figura, ABC):\n",
    "    \n",
    "    def __init__(self, base, altura):\n",
    "        self.base = base\n",
    "        self.altura = altura\n",
    "        Figura.__init__(self)\n",
    "        \n",
    "class Diagonal(ABC):\n",
    "    \n",
    "    def __init__(self):\n",
    "        super().__init__()\n",
    "        \n",
    "    def diagonal(self):\n",
    "        return math.sqrt((self.base**2) + (self.altura**2))\n",
    "        \n",
    "class Triangulo(Poligono):\n",
    "    \n",
    "    def __init__(self, base, altura):\n",
    "        super().__init__(base, altura)\n",
    "        \n",
    "    def area(self):\n",
    "        return (self.base * self.altura) / 2\n",
    "    \n",
    "    def perimetro(self):\n",
    "        #precisa dos lados\n",
    "        pass\n",
    "        \n",
    "class Losango(Poligono, Diagonal):\n",
    "    \n",
    "    def __init__(self, base, altura):\n",
    "        Poligono.__init__(self, base, altura)\n",
    "        Diagonal.__init__(self)\n",
    "        \n",
    "    def area(self):\n",
    "        return (self.base * self.altura) / 2\n",
    "    \n",
    "    def perimetro(self):\n",
    "        return self.base*2 + self.altura*2\n",
    "        \n",
    "class Retangulo(Poligono, Diagonal):\n",
    "    \n",
    "    def __init__(self, base, altura):\n",
    "        Poligono.__init__(self, base, altura)\n",
    "        Diagonal.__init__(self)\n",
    "        \n",
    "    def area(self):\n",
    "        return self.base * self.altura\n",
    "                         \n",
    "    def diagonal(self):\n",
    "        return math.sqrt((self.base**2) + (self.altura**2))\n",
    "    \n",
    "    def perimetro(self):\n",
    "        return self.base*2 + self.altura*2\n",
    "        \n",
    "class Quadrado(Poligono):\n",
    "    \n",
    "    def __init__(self, base, altura):\n",
    "        super().__init__(base, altura)\n",
    "        \n",
    "    def area(self):\n",
    "        return self.base * self.altura\n",
    "    \n",
    "    def perimetro(self):\n",
    "        return self.base*2 + self.altura*2\n",
    "    \n",
    "class Geometria:\n",
    "    \n",
    "    def __init__(self):\n",
    "        self.figuras = [\n",
    "            Circulo(10),\n",
    "            Triangulo(5, 10),\n",
    "            Losango(6, 12),\n",
    "            Retangulo(16,8),\n",
    "            Quadrado(4, 4)\n",
    "        ]\n",
    "        \n",
    "geometria = Geometria()\n",
    "for figura in geometria.figuras:\n",
    "    print(type(figura))\n",
    "    print(\"Área: \", figura.area())\n",
    "    print(\"Perímetro: \" + str(figura.perimetro()) + \"\\n\")"
   ]
  },
  {
   "cell_type": "code",
   "execution_count": null,
   "metadata": {},
   "outputs": [],
   "source": []
  }
 ],
 "metadata": {
  "kernelspec": {
   "display_name": "Python 3",
   "language": "python",
   "name": "python3"
  },
  "language_info": {
   "codemirror_mode": {
    "name": "ipython",
    "version": 3
   },
   "file_extension": ".py",
   "mimetype": "text/x-python",
   "name": "python",
   "nbconvert_exporter": "python",
   "pygments_lexer": "ipython3",
   "version": "3.7.0"
  }
 },
 "nbformat": 4,
 "nbformat_minor": 2
}
