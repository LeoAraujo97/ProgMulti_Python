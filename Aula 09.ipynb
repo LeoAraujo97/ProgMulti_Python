{
 "cells": [
  {
   "cell_type": "markdown",
   "metadata": {},
   "source": [
    "##### Aula 09\n",
    "Leonardo Araujo da Mata\n",
    "RA:81714427"
   ]
  },
  {
   "cell_type": "markdown",
   "metadata": {},
   "source": [
    "##### 01 - Faça um Programa que peça o raio de um círculo, calcule e mostre sua área."
   ]
  },
  {
   "cell_type": "code",
   "execution_count": 12,
   "metadata": {},
   "outputs": [
    {
     "name": "stdout",
     "output_type": "stream",
     "text": [
      "digite o raio do circulo 2\n",
      "12.566370614359172\n"
     ]
    }
   ],
   "source": [
    "import math\n",
    "\n",
    "num = int(input('digite o raio do circulo '))\n",
    "pi = math.pi\n",
    "area = pi * (num**2)\n",
    "print(area)"
   ]
  },
  {
   "cell_type": "markdown",
   "metadata": {},
   "source": [
    "#### 02 - Faça um Programa que calcule a área de um quadrado, em seguida mostre o dobro desta área para o usuário."
   ]
  },
  {
   "cell_type": "code",
   "execution_count": 14,
   "metadata": {},
   "outputs": [
    {
     "name": "stdout",
     "output_type": "stream",
     "text": [
      "digite o valor do lado do quadrado 2\n",
      "O Valor da area do quadrado é  4  e o dobro é 16\n"
     ]
    }
   ],
   "source": [
    "num = int(input('digite o valor do lado do quadrado '))\n",
    "area = num**2\n",
    "print('O Valor da area do quadrado é ',area,' e o dobro é', area**2)"
   ]
  },
  {
   "cell_type": "markdown",
   "metadata": {},
   "source": [
    "##### 03 - Faça um Programa que pergunte quanto você ganha por hora e o número de horas trabalhadas no mês. Calcule e mostre o total do seu salário no referido mês."
   ]
  },
  {
   "cell_type": "code",
   "execution_count": 16,
   "metadata": {},
   "outputs": [
    {
     "name": "stdout",
     "output_type": "stream",
     "text": [
      "digite o valor recebido por hora trabalhada 500\n",
      "digite a quantidade de horas trabalhadas no mes 2\n",
      "você ira receber: R$:  1000\n"
     ]
    }
   ],
   "source": [
    "valor = int(input('digite o valor recebido por hora trabalhada '))\n",
    "horas = int(input('digite a quantidade de horas trabalhadas no mes '))\n",
    "print('você ira receber: R$:',valor*horas)"
   ]
  },
  {
   "cell_type": "markdown",
   "metadata": {},
   "source": [
    "####  04 - Faça um Programa que peça a temperatura em graus Farenheit, transforme e mostre a temperatura em graus Celsius. C = (5 * (F-32) / 9)."
   ]
  },
  {
   "cell_type": "code",
   "execution_count": 18,
   "metadata": {},
   "outputs": [
    {
     "name": "stdout",
     "output_type": "stream",
     "text": [
      "Digite oa temperatura em Farenheit 100\n",
      "37.77777777777778 ºC\n"
     ]
    }
   ],
   "source": [
    "Farenheit = float(input('Digite a temperatura em Farenheit '))\n",
    "celsius = 5*(Farenheit-32)/9\n",
    "print(celsius,'ºC')"
   ]
  },
  {
   "cell_type": "markdown",
   "metadata": {},
   "source": [
    "##### 05 - Faça um Programa que peça a temperatura em graus Celsius, transforme e mostre em graus Farenheit.\n",
    "###### (0 °C × 9/5) + 32 "
   ]
  },
  {
   "cell_type": "code",
   "execution_count": 19,
   "metadata": {},
   "outputs": [
    {
     "name": "stdout",
     "output_type": "stream",
     "text": [
      "Digite a temperatura em Celsius 10\n",
      "50.0 ºF\n"
     ]
    }
   ],
   "source": [
    "Celsius = float(input('Digite a temperatura em Celsius '))\n",
    "Farenheit = (Celsius * (9/5))+32\n",
    "print(Farenheit,'ºF')"
   ]
  },
  {
   "cell_type": "markdown",
   "metadata": {},
   "source": [
    "###### 06 - Faça um Programa que peça 2 números inteiros e um número real. Calcule e mostre:-o  produto do dobro do primeiro com metade do segundo .-a soma do triplo do primeiro com o terceiro.-o terceiro elevado ao cubo."
   ]
  },
  {
   "cell_type": "code",
   "execution_count": 21,
   "metadata": {},
   "outputs": [
    {
     "name": "stdout",
     "output_type": "stream",
     "text": [
      "Digite o primeiro numero inteiro 3\n",
      "Digite o segundo numero inteiro 3\n",
      "Digite o numero real 2\n",
      "7.5\n",
      "11.0\n",
      "8.0\n"
     ]
    }
   ],
   "source": [
    "Int1 = int(input('Digite o primeiro numero inteiro '))\n",
    "Int2 = int(input('Digite o segundo numero inteiro '))\n",
    "Real = float(input('Digite o numero real '))\n",
    "\n",
    "calc1 = (Int1*2) + (Int2/2)\n",
    "print(calc1)\n",
    "calc2 = float((Int1*3)+Real)\n",
    "print(calc2)\n",
    "calc3 = (Real**3)\n",
    "print(calc3)"
   ]
  },
  {
   "cell_type": "markdown",
   "metadata": {},
   "source": [
    "######  07 - João Papo-de-Pescador, homem de bem, comprou um microcomputador para controlar o rendimento diário de seu trabalho. Toda vez que ele traz um peso de peixes maior que o estabelecido pelo regulamento de pesca do estado de São Paulo (50 quilos) deve pagar uma multa de RS 4,00 por quilo excedente. João precisa que você faça um programa que leia a variável peso (peso de peixes) e verifique se há excesso. Se houver, gravar na variável excesso e na variável multa o valor da multa que João deverá pagar. Caso contrário mostrar tais variáveis com o conteúdo ZERO."
   ]
  },
  {
   "cell_type": "code",
   "execution_count": 36,
   "metadata": {},
   "outputs": [
    {
     "name": "stdout",
     "output_type": "stream",
     "text": [
      "Digite o peso da carga de peixes 60\n",
      "a multa é de: R$ 40.0\n"
     ]
    }
   ],
   "source": [
    "peso = int(input('Digite o peso da carga de peixes '))\n",
    "if peso > 50 :\n",
    "    diferenca =  50 - peso\n",
    "    multa = float(diferenca * 4)\n",
    "    print('a multa é de: R$',multa*-1)\n",
    "else :\n",
    "    print('0')"
   ]
  },
  {
   "cell_type": "markdown",
   "metadata": {},
   "source": [
    "######  08 - Faça um Programa que pergunte quanto você ganha por hora e o número de horas trabalhadas no mês. Calcule e mostre o total do seu salário no referido mês, sabendo-se que são descontados 11% para o Imposto de Renda, 8% para o INSS e 5% para o sindicato, faça um programa que nos dê:-salário bruto.-quanto pagou ao INSS.-quanto pagou ao sindicato.-o salário líquido.-calcule os descontos e o salário líquido, conforme a tabela abaixo:+ Salário Bruto : RS-IR (11%) : RS-INSS (8%) : RS-Sindicato ( 5%) : RS= Salário Liquido : RSObs.: Salário Bruto -Descontos = Salário Líquido."
   ]
  },
  {
   "cell_type": "code",
   "execution_count": 41,
   "metadata": {},
   "outputs": [
    {
     "name": "stdout",
     "output_type": "stream",
     "text": [
      "quanto vc ganha por hora?100\n",
      "quantas hrs vc trabalha por mes?10\n",
      "o salario bruto era de : R$ 1000.0\n",
      "foi pago de ir R$ 110.0 ,foi pago de inss R$ 80.0 ,foi pago de sindicato R$ 50.0\n",
      "total liquido R$ 760.0\n"
     ]
    }
   ],
   "source": [
    "valor_hora = float(input('quanto vc ganha por hora? '))\n",
    "horas_trabalhadas = float(input('quantas hrs vc trabalha por mes? '))\n",
    "total_bruto = (valor_hora*horas_trabalhadas)\n",
    "ir = (total_bruto/10)+(total_bruto/100)\n",
    "inss = (total_bruto/100)*8\n",
    "sindicato = (total_bruto/100)*5\n",
    "descontos = ir+inss+sindicato\n",
    "print('o salario bruto era de : R$', total_bruto)\n",
    "print('foi pago de ir R$',ir,',foi pago de inss R$',inss,',foi pago de sindicato R$',sindicato)\n",
    "print('total liquido R$',total_bruto-descontos)\n"
   ]
  },
  {
   "cell_type": "markdown",
   "metadata": {},
   "source": [
    "##### 09 - Faça um programa que leia 2 strings e informe o conteúdo delas seguido do seu comprimento. Informe também se as duas strings possuem o mesmo comprimento e são iguais ou diferentes no conteúdo."
   ]
  },
  {
   "cell_type": "code",
   "execution_count": 8,
   "metadata": {},
   "outputs": [
    {
     "name": "stdout",
     "output_type": "stream",
     "text": [
      "Digite uma frase Lequel\n",
      "Digite outra frase quelLeo\n",
      "conteudo das frases é diferente\n",
      "tamanho das frases é diferente\n"
     ]
    }
   ],
   "source": [
    "frase = input('Digite uma frase ')\n",
    "frase1 = input('Digite outra frase ')\n",
    "tamanho = len(frase)\n",
    "tamanho1 = len(frase1)\n",
    "if frase == frase1:\n",
    "    print('conteudo das frases é igual')\n",
    "else:\n",
    "    print('conteudo das frases é diferente')\n",
    "    \n",
    "if tamanho == tamanho1 :\n",
    "    print('tamanho das frases é igual')\n",
    "else : \n",
    "    print('tamanho das frases é diferente')"
   ]
  },
  {
   "cell_type": "markdown",
   "metadata": {},
   "source": [
    "###### 10 - Faça um programa que permita ao usuário digitar o seu nome e em seguida mostre o nome do usuáriode trás para frente utilizando somente letras maiúsculas. Dica: lembre−se que ao informar o nome o usuário pode digitar letras maiúsculas ou minúsculas."
   ]
  },
  {
   "cell_type": "code",
   "execution_count": 7,
   "metadata": {},
   "outputs": [
    {
     "name": "stdout",
     "output_type": "stream",
     "text": [
      "Digite seu nomeRaquel\n",
      "leuqar\n"
     ]
    }
   ],
   "source": [
    "nome = str(input(\"Digite seu nome\")).lower()\n",
    "print(nome[::-1])"
   ]
  },
  {
   "cell_type": "markdown",
   "metadata": {},
   "source": [
    "###### 11 - Faça um programa que solicite a data de nascimento (dd/mm/aaaa) do usuário e imprima a data com o nome do mês por extenso"
   ]
  },
  {
   "cell_type": "code",
   "execution_count": 1,
   "metadata": {},
   "outputs": [
    {
     "name": "stdout",
     "output_type": "stream",
     "text": [
      "Insira a data de nascimento (dd/mm/aaaa): 11/11/1997\n",
      "Você nasceu em 11 de novembro de 1997\n"
     ]
    }
   ],
   "source": [
    "data = input(\"Insira a data de nascimento (dd/mm/aaaa): \")\n",
    "meses = ['janeiro','fevereiro','março','abril',\n",
    "         'maio','junho','julho','agosto','setembro',\n",
    "         'outubro','novembro','dezembro']\n",
    "\n",
    "dia, mes, ano = data.split(\"/\")\n",
    "mes = meses[int(mes) - 1]\n",
    "\n",
    "print(f\"Você nasceu em {dia} de {mes} de {ano}\")"
   ]
  },
  {
   "cell_type": "markdown",
   "metadata": {},
   "source": [
    "###### 12 - Leet é uma forma de se escrever o alfabeto latino usando outros símbolos em lugar das letras, como números por exemplo. A própria palavra leet admite muitas variações, como l33t ou 1337. O uso do leet reflete uma subcultura relacionada ao mundo dos jogos de computador e internet, sendo muito usada para confundir os iniciantes e afirmar-se como parte de um grupo. Pesquise sobre as principais formas de traduzir as letras. Depois, faça um programa que peça uma texto e transforme-o para a grafia leet speak."
   ]
  },
  {
   "cell_type": "code",
   "execution_count": 3,
   "metadata": {},
   "outputs": [
    {
     "name": "stdout",
     "output_type": "stream",
     "text": [
      "Insira o texto a ser traduzido: LEO\n",
      "130\n"
     ]
    }
   ],
   "source": [
    "texto = input(\"Insira o texto a ser traduzido: \").lower()\n",
    "texto = texto.replace(\"a\", \"4\")\n",
    "texto = texto.replace(\"e\", \"3\")\n",
    "texto = texto.replace(\"i\", \"1\")\n",
    "texto = texto.replace(\"o\", \"0\")\n",
    "texto = texto.replace(\"t\", \"7\")\n",
    "texto = texto.replace(\"s\", \"5\")\n",
    "texto = texto.replace(\"l\", \"1\")\n",
    "\n",
    "print(texto)"
   ]
  },
  {
   "cell_type": "markdown",
   "metadata": {},
   "source": [
    "\n",
    "##### 13 - Crie um programa que recebe uma lista de números e\n",
    "##### retorne o maior elemento \n",
    "##### retorne a soma dos elementos\n",
    "##### retorne o número de ocorrências do primeiro elemento da lista\n",
    "##### retorne a média dos elementos\n",
    "##### retorne o valor mais próximo da média dos elementos\n",
    "##### retorne a soma dos elementos com valor negativo\n",
    "##### retorne a quantidade de vizinhos iguais\n",
    "\n"
   ]
  },
  {
   "cell_type": "code",
   "execution_count": 23,
   "metadata": {},
   "outputs": [
    {
     "name": "stdout",
     "output_type": "stream",
     "text": [
      "Insira o 1 elemento: 1\n",
      "Insira o 2 elemento: 2\n",
      "Insira o 3 elemento: 3\n",
      "Maior elemento: 3 , a soma é : 6, a média é : 2.0  \n",
      "Número de ocorrencias de 1: 1\n",
      "Número mais próximo da média :  2\n",
      "Soma dos elementos negativos :  não existe nenhum número negativo.\n",
      "números iguais:  1\n"
     ]
    }
   ],
   "source": [
    "list = [\n",
    "    int(input(\"Insira o 1 elemento: \")),\n",
    "    int(input(\"Insira o 2 elemento: \")),\n",
    "    int(input(\"Insira o 3 elemento: \"))\n",
    "]\n",
    "\n",
    "maior = list[0]\n",
    "soma = 0\n",
    "somaNeg = 0\n",
    "numOcorrenciasPrimeiro = 0\n",
    "vizinhos = 0\n",
    "anterior = list[0] + 1\n",
    "\n",
    "# soma\n",
    "soma = list[0]+list[1]+list[2]\n",
    "\n",
    "for num in list:\n",
    "    # maior\n",
    "    if num > maior:\n",
    "        maior = num\n",
    "    # num de ocorrencias do primeiro\n",
    "    if num == list[0]:\n",
    "        numOcorrenciasPrimeiro += 1    \n",
    "    # soma de negativos\n",
    "    if num < 0:\n",
    "        somaNeg += num\n",
    "    # vizinhos iguais\n",
    "    if num == anterior:\n",
    "        vizinhos += 1\n",
    "    anterior = num\n",
    "# media\n",
    "media = soma / len(list)\n",
    "\n",
    "maisProximo = list[0]\n",
    "diferenca = media - list[0]\n",
    "menorDiferenca = diferenca\n",
    "for num in list:\n",
    "    #valor mais próximo da média\n",
    "    diferenca = media - num\n",
    "    if diferenca < 0:\n",
    "        diferenca = diferenca * -1\n",
    "    if diferenca < menorDiferenca:\n",
    "        menorDiferenca = diferenca\n",
    "        maisProximo = num\n",
    "        \n",
    "print(f\"Maior elemento: {maior} , a soma é : {soma}, a média é : {media}  \")\n",
    "print(\"Número de ocorrencias de %i: %i\" % (list[0], numOcorrenciasPrimeiro))\n",
    "print(\"Número mais próximo da média : \", maisProximo)\n",
    "print(\"Soma dos elementos negativos : \", str(somaNeg).replace(\"0\",\"não existe nenhum número negativo.\"))\n",
    "print(\"números iguais: \", vizinhos + 1 )"
   ]
  },
  {
   "cell_type": "markdown",
   "metadata": {},
   "source": [
    "###### 14 - Faça um programa que receba duas listas e retorne True se são iguais ou False caso contrario. Duas listas são iguais se possuem os mesmos valores e na mesma ordem."
   ]
  },
  {
   "cell_type": "code",
   "execution_count": 12,
   "metadata": {},
   "outputs": [
    {
     "name": "stdout",
     "output_type": "stream",
     "text": [
      "As listas são iguais:  True\n",
      "As listas são iguais:  False\n",
      "As listas são iguais:  False\n"
     ]
    }
   ],
   "source": [
    "def Numeros(lista1,lista2):\n",
    "    if len(lista1) == len(lista2):\n",
    "        for numero in range(0,len(lista1)):\n",
    "            if lista1[numero] != lista2[numero]:\n",
    "                return False\n",
    "        return True \n",
    "    return False\n",
    "\n",
    "#listas iguais\n",
    "lista1, lista2 = [15, 30, 60], [15, 30, 60]\n",
    "print(\"As listas são iguais: \", Numeros(lista1, lista2))\n",
    "# listas diferentes em ordem\n",
    "lista1, lista2 = [15, 1, 30], [15, 30, 1]\n",
    "print(\"As listas são iguais: \", Numeros(lista1, lista2))\n",
    "# listas diferentes em tamanho\n",
    "lista1, lista2 = [2, 6], [10, 8, 7]\n",
    "print(\"As listas são iguais: \", Numeros(lista1, lista2))"
   ]
  },
  {
   "cell_type": "markdown",
   "metadata": {},
   "source": [
    "###### 15- Faça um programa que receba duas listas e retorne True se têm os mesmos elementos ou False caso contrário Duas listas possuem os mesmos elementos quando são compostas pelos mesmos valores, mas não obrigatoriamente na mesma ordem."
   ]
  },
  {
   "cell_type": "code",
   "execution_count": 15,
   "metadata": {},
   "outputs": [
    {
     "name": "stdout",
     "output_type": "stream",
     "text": [
      "As listas possuem mesmo conteúdo:  True\n",
      "As listas possuem mesmo conteúdo:  True\n",
      "As listas possuem mesmo conteúdo:  False\n"
     ]
    }
   ],
   "source": [
    "def saoIguais(lista1,lista2):\n",
    "    lista1.sort()\n",
    "    lista2.sort()\n",
    "    if len(lista1) == len(lista2):\n",
    "        for posicao in range(0, len(lista1)):\n",
    "            if lista1[posicao] != lista2[posicao]:\n",
    "                return False\n",
    "        return True\n",
    "    return False\n",
    "\n",
    "#listas iguais \n",
    "lista1,lista2 = [1,2,3,4],[1,2,3,4]\n",
    "print(\"As listas possuem mesmo conteúdo: \", saoIguais(lista1, lista2))\n",
    "# listas diferentes em ordem\n",
    "lista1, lista2 = [15, 1, 30], [15, 30, 1]\n",
    "print(\"As listas possuem mesmo conteúdo: \", saoIguais(lista1, lista2))\n",
    "# listas diferentes em tamanho\n",
    "lista1, lista2 = [2, 6], [10, 8, 7]\n",
    "print(\"As listas possuem mesmo conteúdo: \", saoIguais(lista1, lista2))\n"
   ]
  },
  {
   "cell_type": "markdown",
   "metadata": {},
   "source": [
    "\n",
    "\n",
    "###### 16- Faça um programa que percorre uma lista com o seguinte formato: [['Brasil', 'Italia', [10, 9]], ['Brasil', 'Espanha', [5, 7]], ['Italia', 'Espanha', [7,8]]]. Essa lista indica o número de faltas que cada time fez em cada jogo. Na lista acima, no jogo entre Brasil e Itália, o Brasil fez 10 faltas e a Itália fez 9. O programa deve imprimir na tela:\n",
    "\n",
    "- o total de faltas do campeonato\n",
    "- o time que fez mais faltas\n",
    "- o time que fez menos faltas\n",
    "\n"
   ]
  },
  {
   "cell_type": "code",
   "execution_count": 16,
   "metadata": {},
   "outputs": [
    {
     "name": "stdout",
     "output_type": "stream",
     "text": [
      "Total de faltas do campeonato:  46\n"
     ]
    }
   ],
   "source": [
    "lista = [['Brasil', 'Italia', [10, 9]], ['Brasil', 'Espanha', [5, 7]], ['Italia', 'Espanha', [7,8]]]\n",
    "times = []\n",
    "        \n",
    "totalFaltas = 0\n",
    "for jogo in lista:\n",
    "    totalFaltas += jogo[2][0] + jogo[2][1]\n",
    "    \n",
    "print(\"Total de faltas do campeonato: \", totalFaltas)"
   ]
  },
  {
   "cell_type": "markdown",
   "metadata": {},
   "source": [
    "###### 17- Escreva um programa que conta a quantidade de vogais em uma string e armazena tal quantidade em um dicionário, onde a chave é a vogal considerada."
   ]
  },
  {
   "cell_type": "code",
   "execution_count": 18,
   "metadata": {},
   "outputs": [
    {
     "name": "stdout",
     "output_type": "stream",
     "text": [
      "digite uma palavra/frase : meu pau no seu ouvido\n",
      "Quantidade de A's: 1\n",
      "Quantidade de E's: 2\n",
      "Quantidade de I's: 1\n",
      "Quantidade de O's: 3\n",
      "Quantidade de U's: 4\n"
     ]
    }
   ],
   "source": [
    "string = input(\"digite uma palavra/frase : \")\n",
    "dic = {\n",
    "    \"a\": 0,\n",
    "    \"e\": 0,\n",
    "    \"i\": 0,\n",
    "    \"o\": 0,\n",
    "    \"u\": 0,\n",
    "}\n",
    "\n",
    "for letra in string:\n",
    "    if letra.lower() == \"a\":\n",
    "        dic[\"a\"] += 1\n",
    "    if letra.lower() == \"e\":\n",
    "        dic[\"e\"] += 1\n",
    "    if letra.lower() == \"i\":\n",
    "        dic[\"i\"] += 1\n",
    "    if letra.lower() == \"o\":\n",
    "        dic[\"o\"] += 1\n",
    "    if letra.lower() == \"u\":\n",
    "        dic[\"u\"] += 1\n",
    "        \n",
    "print(\"Quantidade de A's:\", dic[\"a\"])\n",
    "print(\"Quantidade de E's:\", dic[\"e\"])\n",
    "print(\"Quantidade de I's:\", dic[\"i\"])\n",
    "print(\"Quantidade de O's:\", dic[\"o\"])\n",
    "print(\"Quantidade de U's:\", dic[\"u\"])"
   ]
  },
  {
   "cell_type": "markdown",
   "metadata": {},
   "source": [
    "###### 18 - Escreva um programa que lê̂ duas notas de vários alunos e armazena tais notas em um dicionário, onde a chave é o nome do aluno. A entrada de dados deve terminar quando for lida uma string vazia como nome. Escreva uma função que retorna a média do aluno, dado seu nome"
   ]
  },
  {
   "cell_type": "code",
   "execution_count": 19,
   "metadata": {},
   "outputs": [
    {
     "name": "stdout",
     "output_type": "stream",
     "text": [
      "Insira o nome do aluno: Leo\n",
      "Insira a primeira nota: 9\n",
      "Insira a segunda nota: 10\n",
      "Insira o nome do aluno: \n",
      "Insira o nome do aluno o qual deseja ver a média: Leo\n"
     ]
    },
    {
     "data": {
      "text/plain": [
       "9.5"
      ]
     },
     "execution_count": 19,
     "metadata": {},
     "output_type": "execute_result"
    }
   ],
   "source": [
    "dic = {}\n",
    "i = 0\n",
    "nome = input(\"Insira o nome do aluno: \")\n",
    "while nome != \"\":\n",
    "    dic[nome] = [\n",
    "        float(input(\"Insira a primeira nota: \")),\n",
    "        float(input(\"Insira a segunda nota: \"))\n",
    "    ]\n",
    "    nome = input(\"Insira o nome do aluno: \")\n",
    "\n",
    "def media(nome):\n",
    "    return (dic[nome][0] + dic[nome][1]) / 2\n",
    "\n",
    "media(input(\"Insira o nome do aluno o qual deseja ver a média: \"))"
   ]
  },
  {
   "cell_type": "markdown",
   "metadata": {},
   "source": [
    "###### 19 - Uma pista de Kart permite 10 voltas para cada um de 6 corredores. Escreva um programa que leia todos os tempos em segundos e os guarde em um dicionário, onde a chave é o nome do corredor. Ao final diga de quem foi a melhor volta da prova e em que volta; e ainda a classificação final em ordem (1o o campeão). O campeão é o que tem a menor média de tempos."
   ]
  },
  {
   "cell_type": "code",
   "execution_count": 20,
   "metadata": {},
   "outputs": [
    {
     "name": "stdout",
     "output_type": "stream",
     "text": [
      "1° lugar: Batista - 59.9 segs.\n",
      "2° lugar: Jailson - 60.6 segs.\n",
      "3° lugar: Joao - 60.8 segs.\n",
      "4° lugar: Marcos - 61.2 segs.\n",
      "5° lugar: Roger - 61.6 segs.\n",
      "6° lugar: Rodolfo - 63.8 segs.\n"
     ]
    }
   ],
   "source": [
    "import operator\n",
    "\n",
    "dic = {\n",
    "    \"Jailson\": [57, 58, 60, 56, 64, 70, 59, 58, 69, 55],\n",
    "    \"Joao\": [56, 60, 72, 50, 67, 58, 61, 63, 62, 59],\n",
    "    \"Batista\": [79, 52, 58, 48, 58, 59, 61, 65, 59, 60],\n",
    "    \"Rodolfo\": [56, 50, 55, 70, 85, 73, 68, 65, 56, 60],\n",
    "    \"Marcos\": [69, 55, 67, 50, 52, 53, 70, 75, 65, 56],\n",
    "    \"Roger\": [56, 63, 63, 65, 70, 59, 55, 60, 63, 62]\n",
    "}\n",
    "\n",
    "volta = 0\n",
    "medias = dic\n",
    "nome = \"\"\n",
    "melhorVolta = dic[\"Jailson\"][0]\n",
    "for chave in dic:\n",
    "    soma = 0\n",
    "    for num in dic[chave]:\n",
    "        if num < melhorVolta:\n",
    "            melhorVolta = num\n",
    "            nome = chave\n",
    "        soma += num\n",
    "    medias[chave] = soma / 10\n",
    "\n",
    "#itemgeter 1 é a pos do valor do medias.items()\n",
    "sort = sorted(medias.items(), key=operator.itemgetter(1))\n",
    "for i in range(0, 6):\n",
    "    print(\"%s° lugar: %s - %s segs.\" % (i + 1, sort[i][0], sort[i][1]))"
   ]
  },
  {
   "cell_type": "markdown",
   "metadata": {},
   "source": [
    "\n",
    "\n",
    "###### 20- Escreva um programa para armazenar uma agenda de telefones em um dicionário. Cada pessoa pode ter um ou mais telefones e a chave do dicionário é o nome da pessoa. Seu programa deve ter as seguintes funções:\n",
    "\n",
    "    incluirNovoNome – essa função acrescenta um novo nome na agenda, com um ou mais telefones. Ela deve receber como argumentos o nome e os telefones.\n",
    "    incluirTelefone – essa função acrescenta um telefone em um nome existente na agenda. Caso o nome não exista na agenda, você̂ deve perguntar se a pessoa deseja inclui-lo. Caso a resposta seja afirmativa, use a função anterior para incluir o novo nome.\n",
    "    excluirTelefone – essa função exclui um telefone de uma pessoa que já está na agenda. Se a pessoa tiver apenas um telefone, ela deve ser excluída da agenda.\n",
    "    excluirNome – essa função exclui uma pessoa da agenda.\n",
    "    consultarTelefone – essa função retorna os telefones de uma pessoa na agenda.\n",
    "\n"
   ]
  },
  {
   "cell_type": "code",
   "execution_count": 1,
   "metadata": {},
   "outputs": [
    {
     "name": "stdout",
     "output_type": "stream",
     "text": [
      "\n",
      "Escolha uma opção: \n",
      "1 - Incluir Novo Nome\n",
      "2 - Incluir Telefone\n",
      "3 - Excluir Telefone\n",
      "4 - Consultar Agenda\n",
      "0 - Encerrar Programa\n",
      "1\n",
      "Insira o nome da pessoa: Leonardo \n",
      "Insira um telefone da pessoa: 21\n",
      "Inserir outro telefone (ou digite 0 para parar): 74\n",
      "Inserir outro telefone (ou digite 0 para parar): 0\n",
      "\n",
      "Escolha uma opção: \n",
      "1 - Incluir Novo Nome\n",
      "2 - Incluir Telefone\n",
      "3 - Excluir Telefone\n",
      "4 - Consultar Agenda\n",
      "0 - Encerrar Programa\n",
      "0\n"
     ]
    }
   ],
   "source": [
    "agenda = {}\n",
    "\n",
    "def incluirNovoNome(nome, telefones):\n",
    "    global agenda\n",
    "    agenda[nome] = telefones\n",
    "    \n",
    "def incluirTelefone(nome, telefone):\n",
    "    global agenda\n",
    "    if nome in agenda.keys():\n",
    "        agenda[nome].append(telefone)\n",
    "    else:\n",
    "        if input(\"Essa pessoa não existe, incluir ela na agenda (s/n)? \") == \"s\":\n",
    "            telefones = [telefone]\n",
    "            incluirNovoNome(nome, telefones)\n",
    "            \n",
    "def excluirTelefone(nome, telefone):\n",
    "    global agenda\n",
    "    if nome in agenda.keys():\n",
    "        if len(agenda[nome]) == 1:\n",
    "            del agenda[nome]\n",
    "        else:\n",
    "            for num in range(0, len(agenda[nome]) - 1):\n",
    "                if telefone == agenda[nome][num]:\n",
    "                    agenda[nome].pop(num)\n",
    "        \n",
    "def consultarTelefone(nome):\n",
    "    global agenda\n",
    "    if nome in agenda.keys():\n",
    "        print(agenda[nome])\n",
    "    \n",
    "opcao = -1\n",
    "while opcao != 0:\n",
    "    opcao = int(input(\"\\nEscolha uma opção: \\n1 - Incluir Novo Nome\\n2 - Incluir Telefone\\n3 - Excluir Telefone\\n4 - Consultar Agenda\\n0 - Encerrar Programa\\n\"))\n",
    "    \n",
    "    # INSERIR NOVO NOME\n",
    "    if opcao == 1:\n",
    "        nome = input(\"Insira o nome da pessoa: \")\n",
    "        telefones = []\n",
    "        telefones.append(int(input(\"Insira um telefone da pessoa: \")))\n",
    "        telefone = -1\n",
    "        while telefone != 0:\n",
    "            telefone = int(input(\"Inserir outro telefone (ou digite 0 para parar): \"))\n",
    "            if telefone != 0:\n",
    "                telefones.append(telefone)\n",
    "        incluirNovoNome(nome, telefones)\n",
    "    # INCLUIR TELEFONE\n",
    "    elif opcao == 2:\n",
    "        nome = input(\"Insira o nome da pessoa: \")\n",
    "        telefone = int(input(\"Insira um novo telefone da pessoa: \"))\n",
    "        incluirTelefone(nome, telefone)\n",
    "    # EXCLUIR TELEFONE\n",
    "    elif opcao == 3:\n",
    "        nome = input(\"Insira o nome da pessoa: \")\n",
    "        telefone = int(input(\"Insira o telefone da pessoa a qual deseja excluir: \"))\n",
    "        excluirTelefone(nome, telefone)\n",
    "    elif opcao == 4:\n",
    "        consultarTelefone(input(\"Insira o nome da pessoa: \"))"
   ]
  },
  {
   "cell_type": "markdown",
   "metadata": {},
   "source": [
    "\n",
    "\n",
    "##### 21- Faça um programa que leia um arquivo texto contendo uma lista de endereços IP e gere um outro arquivo, contendo um relatório dos endereços IP válidos e inválidos. O arquivo de entrada possui o seguinte formato:\n",
    "\n",
    "200.135.80.9\n",
    "192.168.1.1\n",
    "8.35.67.74\n",
    "257.32.4.5\n",
    "85.345.1.2\n",
    "1.2.3.4\n",
    "9.8.234.5\n",
    "192.168.0.256\n",
    "\n",
    "O arquivo de saída possui o seguinte formato:\n",
    "\n",
    "[Endereços válidos:]\n",
    "200.135.80.9\n",
    "192.168.1.1\n",
    "8.35.67.74\n",
    "1.2.3.4\n",
    "[Endereços inválidos:]\n",
    "257.32.4.5\n",
    "85.345.1.2\n",
    "9.8.234.5\n",
    "192.168.0.256\n",
    "\n"
   ]
  },
  {
   "cell_type": "code",
   "execution_count": 3,
   "metadata": {},
   "outputs": [],
   "source": [
    "import socket\n",
    "\n",
    "ipsValidos = []\n",
    "ipsInvalidos = []\n",
    "\n",
    "ips = open(\"ips.txt\")\n",
    "for ip in ips:\n",
    "    try:\n",
    "        socket.inet_aton(ip)\n",
    "        # Validos\n",
    "        ipsValidos.append(ip)\n",
    "    except socket.error:\n",
    "        # Invalidos\n",
    "        ipsInvalidos.append(ip)\n",
    "        \n",
    "ips.close()\n",
    "\n",
    "saida = open(\"ipsvalidados.txt\", \"w+\")\n",
    "\n",
    "saida.write(\"[Endereços válidos:]\\n\")\n",
    "for ip in ipsValidos:\n",
    "    saida.write(ip)\n",
    "    \n",
    "saida.write(\"[Endereços inválidos:]\\n\")\n",
    "for ip in ipsInvalidos:\n",
    "    saida.write(ip)\n",
    "    \n",
    "saida.close()"
   ]
  },
  {
   "cell_type": "markdown",
   "metadata": {},
   "source": [
    "\n",
    "\n",
    "##### 22 - A ACME Inc., uma empresa de 500 funcionários, está tendo problemas de espaço em disco no seu servidor de arquivos. Para tentar resolver este problema, o Administrador de Rede precisa saber qual o espaço ocupado pelos usuários, e identificar os usuários com maior espaço ocupado. Através de um programa, baixado da Internet, ele conseguiu gerar o seguinte arquivo, chamado \"usuarios.txt\":\n",
    "\n",
    "alexandre 456123789\n",
    "anderson 1245698456\n",
    "antonio 123456456\n",
    "carlos 91257581\n",
    "cesar 987458\n",
    "rosemary 789456125\n",
    "\n",
    "Neste arquivo, o nome do usuário possui 15 caracteres. A partir deste arquivo, você deve criar um programa que gere um relatório, chamado \"relatório.txt\", no seguinte formato:\n",
    "\n",
    "ACME Inc. Uso do espaço em disco pelos usuários\n",
    "--------------------------------------------------------------\n",
    "----------\n",
    "Nr. Usuário Espaço utilizado % do uso\n",
    "1 alexandre 434,99 MB 16,85%\n",
    "2 anderson 1187,99 MB 46,02%\n",
    "3 antonio 117,73 MB 4,56%\n",
    "4 carlos 87,03 MB 3,37%\n",
    "5 cesar 0,94 MB 0,04%\n",
    "6 rosemary 752,88 MB 29,16%\n",
    "Espaço total ocupado: 2581,57 MB\n",
    "Espaço médio ocupado: 430,26 MB\n",
    "\n",
    "O arquivo de entrada deve ser lido uma única vez, e os dados armazenados em memória, caso sejam necessários, de forma a agilizar a execução do programa. A conversão da espaço ocupado em disco, de bytes para megabytes deverá ser feita através de uma função separada, que será chamada pelo programa principal. O cálculo do percentual de uso também deverá ser feito através de uma função, que será chamada pelo programa principal.\n"
   ]
  },
  {
   "cell_type": "code",
   "execution_count": 8,
   "metadata": {},
   "outputs": [],
   "source": [
    "def paraMb(tamanho):\n",
    "    return float(tamanho / (1024*1024))\n",
    "\n",
    "def usoMemoria(tamanho, total):\n",
    "    return float(tamanho / total) * 100\n",
    "\n",
    "dic = {}\n",
    "total = 0\n",
    "usuarios = open(\"usuarios.txt\")\n",
    "for usuario in usuarios:\n",
    "    nome, memoria = usuario.split(\",\")\n",
    "    dic[nome] = int(memoria)\n",
    "    total += int(memoria)\n",
    "usuarios.close()\n",
    "media = total / len(dic.keys())\n",
    "\n",
    "relatorio = open(\"relatório.txt\", \"w+\")\n",
    "relatorio.write(\"ACME Inc.               Uso do espaço em disco pelos usuários.\\n\")\n",
    "relatorio.write(\"--------------------------------------------------------------\\n\")\n",
    "relatorio.write(\"Nr.\\tUsuário \\tEspaço utilizado\\t% do uso\\n\")\n",
    "\n",
    "nr = 1\n",
    "for usuario in dic:\n",
    "    relatorio.write(str(nr) + \"\\t\" + usuario + \"\\t\" + \"{0:.2f}\".format(paraMb(dic[usuario])) + \" MB\\t\\t\" + \"{0:.2f}\".format(usoMemoria(dic[usuario], total)) + \"%\\n\")\n",
    "    nr += 1\n",
    "    \n",
    "\n",
    "relatorio.write(\"Espaço total ocupado: \" + \"{0:.2f}\".format(paraMb(total)) + \"\\n\")\n",
    "relatorio.write(\"Espaço médio ocupado: \" + \"{0:.2f}\".format(paraMb(media)))\n",
    "\n",
    "relatorio.close()"
   ]
  },
  {
   "cell_type": "code",
   "execution_count": null,
   "metadata": {},
   "outputs": [],
   "source": []
  }
 ],
 "metadata": {
  "kernelspec": {
   "display_name": "Python 3",
   "language": "python",
   "name": "python3"
  },
  "language_info": {
   "codemirror_mode": {
    "name": "ipython",
    "version": 3
   },
   "file_extension": ".py",
   "mimetype": "text/x-python",
   "name": "python",
   "nbconvert_exporter": "python",
   "pygments_lexer": "ipython3",
   "version": "3.7.0"
  }
 },
 "nbformat": 4,
 "nbformat_minor": 2
}
